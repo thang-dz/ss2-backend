{
 "cells": [
  {
   "cell_type": "code",
   "execution_count": null,
   "metadata": {},
   "outputs": [],
   "source": [
    "import pandas as pd\n",
    "import numpy as np\n",
    "from surprise import Dataset, Reader, SVD\n",
    "from sklearn.decomposition import PCA\n",
    "from sklearn.preprocessing import OneHotEncoder\n",
    "from sklearn.metrics.pairwise import cosine_similarity\n",
    "\n",
    "# === Step 1: Load datasets ===\n",
    "df_songs = pd.read_csv(\"ex.csv\")\n",
    "df_interact = pd.read_csv(\"Processed_User_Song_Interaction.csv\")"
   ]
  },
  {
   "cell_type": "code",
   "execution_count": null,
   "metadata": {},
   "outputs": [],
   "source": [
    "# === Step 2: Process metadata ===\n",
    "metadata = df_songs[['Genre', 'Album/Movie']].fillna('Unknown')\n",
    "encoder = OneHotEncoder()\n",
    "meta_encoded = encoder.fit_transform(metadata).toarray()\n",
    "\n",
    "df_songs['User-Rating'] = df_songs['User-Rating'].str.replace('/10', '').astype(float)\n",
    "ratings = df_songs[['User-Rating']].fillna(df_songs['User-Rating'].mean())\n",
    "\n",
    "meta_features = np.hstack([meta_encoded, ratings])\n",
    "\n",
    "# PCA on song metadata\n",
    "pca = PCA(n_components=20, random_state=42)\n",
    "meta_pca = pca.fit_transform(meta_features)"
   ]
  },
  {
   "cell_type": "code",
   "execution_count": null,
   "metadata": {},
   "outputs": [],
   "source": [
    "# === Step 3: Train SVD model ===\n",
    "reader = Reader(rating_scale=(0, df_interact['listen_count'].max()))\n",
    "data = Dataset.load_from_df(df_interact[['user_id', 'song_index', 'listen_count']], reader)\n",
    "trainset = data.build_full_trainset()\n",
    "\n",
    "model = SVD(n_factors=50, random_state=42)\n",
    "model.fit(trainset)\n",
    "\n",
    "svd_vectors = model.qi  # item (song) vectors"
   ]
  },
  {
   "cell_type": "code",
   "execution_count": null,
   "metadata": {},
   "outputs": [],
   "source": [
    "# === Step 4: Combine SVD + PCA features ===\n",
    "combined_vectors = np.hstack([svd_vectors, meta_pca])"
   ]
  },
  {
   "cell_type": "code",
   "execution_count": null,
   "metadata": {},
   "outputs": [],
   "source": [
    "# === Step 5: Recommend for user ===\n",
    "def recommend_for_user(user_id, top_k=10):\n",
    "    user_vector = model.pu[trainset.to_inner_uid(user_id)]\n",
    "    similarities = cosine_similarity(\n",
    "        [np.hstack([user_vector, np.zeros(meta_pca.shape[1])])],\n",
    "        combined_vectors\n",
    "    ).flatten()\n",
    "\n",
    "    listened = df_interact[df_interact.user_id == user_id]['song_index'].tolist()\n",
    "    unlistened = [i for i in range(len(df_songs)) if i not in listened]\n",
    "\n",
    "    ranked = sorted(unlistened, key=lambda x: -similarities[x])\n",
    "    top_indices = ranked[:top_k]\n",
    "    return df_songs.iloc[top_indices][['Song-Name', 'Singer/Artists', 'Genre']]"
   ]
  },
  {
   "cell_type": "code",
   "execution_count": null,
   "metadata": {},
   "outputs": [],
   "source": [
    "# === Step 6: Try recommendation ===\n",
    "recommend_for_user(\"user_52\")"
   ]
  }
 ],
 "metadata": {
  "kernelspec": {
   "display_name": "Python 3",
   "language": "python",
   "name": "python3"
  },
  "language_info": {
   "name": "python",
   "version": "3.9"
  }
 },
 "nbformat": 4,
 "nbformat_minor": 5
}
