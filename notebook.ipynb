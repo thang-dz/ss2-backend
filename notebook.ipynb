{
 "cells": [
  {
   "cell_type": "code",
   "execution_count": 43,
   "id": "38899bcb",
   "metadata": {},
   "outputs": [
    {
     "name": "stdout",
     "output_type": "stream",
     "text": [
      "Requirement already satisfied: pandas in /opt/anaconda3/lib/python3.12/site-packages (2.2.2)\n",
      "Requirement already satisfied: numpy>=1.26.0 in /opt/anaconda3/lib/python3.12/site-packages (from pandas) (1.26.4)\n",
      "Requirement already satisfied: python-dateutil>=2.8.2 in /opt/anaconda3/lib/python3.12/site-packages (from pandas) (2.9.0.post0)\n",
      "Requirement already satisfied: pytz>=2020.1 in /opt/anaconda3/lib/python3.12/site-packages (from pandas) (2024.1)\n",
      "Requirement already satisfied: tzdata>=2022.7 in /opt/anaconda3/lib/python3.12/site-packages (from pandas) (2023.3)\n",
      "Requirement already satisfied: six>=1.5 in /opt/anaconda3/lib/python3.12/site-packages (from python-dateutil>=2.8.2->pandas) (1.16.0)\n",
      "Note: you may need to restart the kernel to use updated packages.\n"
     ]
    }
   ],
   "source": [
    "pip install pandas\n"
   ]
  },
  {
   "cell_type": "code",
   "execution_count": 44,
   "id": "c7b949a9",
   "metadata": {},
   "outputs": [
    {
     "name": "stdout",
     "output_type": "stream",
     "text": [
      "Requirement already satisfied: nltk in /opt/anaconda3/lib/python3.12/site-packages (3.8.1)\n",
      "Requirement already satisfied: click in /opt/anaconda3/lib/python3.12/site-packages (from nltk) (8.1.7)\n",
      "Requirement already satisfied: joblib in /opt/anaconda3/lib/python3.12/site-packages (from nltk) (1.4.2)\n",
      "Requirement already satisfied: regex>=2021.8.3 in /opt/anaconda3/lib/python3.12/site-packages (from nltk) (2023.10.3)\n",
      "Requirement already satisfied: tqdm in /opt/anaconda3/lib/python3.12/site-packages (from nltk) (4.66.4)\n",
      "Note: you may need to restart the kernel to use updated packages.\n"
     ]
    }
   ],
   "source": [
    "pip install nltk"
   ]
  },
  {
   "cell_type": "code",
   "execution_count": 45,
   "id": "d2aab830",
   "metadata": {},
   "outputs": [],
   "source": [
    "import pandas as pd\n",
    "import pathlib\n",
    "import sys\n",
    "df = pd.read_csv(\"/Users/godsentizinyon/Downloads/Recommender Systems in Python/recommender/spotify_millsongdata.csv\")"
   ]
  },
  {
   "cell_type": "code",
   "execution_count": 46,
   "id": "55c6124c",
   "metadata": {},
   "outputs": [],
   "source": [
    "df.isnull().sum()\n",
    "df = df.sample(5000).drop(\"link\", axis=1).reset_index(drop=True)"
   ]
  },
  {
   "cell_type": "code",
   "execution_count": 47,
   "id": "a1c61f77",
   "metadata": {},
   "outputs": [
    {
     "data": {
      "text/plain": [
       "\"I was dancing when I was twelve  \\r\\nI was dancing when I was twelve  \\r\\nI was dancing when I was...oh  \\r\\nI was dancing when I was...oh  \\r\\nI danced myself out of the womb  \\r\\nI danced myself out of the womb  \\r\\nIs it strange to dance so soon?  \\r\\nIs it strange to dance so soon?  \\r\\nIs it wrong to understand  \\r\\nThe fear that dwells inside a man?  \\r\\nWhat's it like to be a loon?  \\r\\nI liken it to a balloon  \\r\\nOh...  \\r\\nI danced myself into the tomb  \\r\\nI danced myself into the tomb  \\r\\nIs it strange to dance so soon?  \\r\\nIs it strange to dance so soon?  \\r\\nIs it wrong to understand  \\r\\nThe fear that dwells inside a man?  \\r\\nWhat's it like to be a loon?  \\r\\nI liken it to a balloon  \\r\\nOh...\\r\\n\\r\\n\""
      ]
     },
     "execution_count": 47,
     "metadata": {},
     "output_type": "execute_result"
    }
   ],
   "source": [
    "df[\"text\"][1]"
   ]
  },
  {
   "cell_type": "code",
   "execution_count": null,
   "id": "8cb12d70",
   "metadata": {},
   "outputs": [],
   "source": []
  },
  {
   "cell_type": "code",
   "execution_count": 48,
   "id": "a1def2e0",
   "metadata": {},
   "outputs": [
    {
     "data": {
      "text/plain": [
       "(5000, 3)"
      ]
     },
     "execution_count": 48,
     "metadata": {},
     "output_type": "execute_result"
    }
   ],
   "source": [
    "df.shape"
   ]
  },
  {
   "cell_type": "markdown",
   "id": "c5480cb0",
   "metadata": {},
   "source": [
    "Text Cleaning/Processing"
   ]
  },
  {
   "cell_type": "markdown",
   "id": "6549a6a4",
   "metadata": {},
   "source": [
    "df['text'].str.lower().replace(r\"^\\W\\s\", \" \").replace(r\"\\n\", \" \", regex = True)"
   ]
  },
  {
   "cell_type": "markdown",
   "id": "5b2e2d53",
   "metadata": {},
   "source": []
  },
  {
   "cell_type": "code",
   "execution_count": 49,
   "id": "6c7a9049",
   "metadata": {},
   "outputs": [],
   "source": [
    "df['text'] = df['text'].str.lower().replace(r\"^\\W\\s\", \" \").replace(r\"\\n\", \" \", regex = True)\n"
   ]
  },
  {
   "cell_type": "markdown",
   "id": "2c1f5b3f",
   "metadata": {},
   "source": [
    "TOKENIZATION"
   ]
  },
  {
   "cell_type": "markdown",
   "id": "8902f83e",
   "metadata": {},
   "source": [
    "df.tail(5)"
   ]
  },
  {
   "cell_type": "code",
   "execution_count": 50,
   "id": "7fe013e6",
   "metadata": {},
   "outputs": [
    {
     "data": {
      "text/html": [
       "<div>\n",
       "<style scoped>\n",
       "    .dataframe tbody tr th:only-of-type {\n",
       "        vertical-align: middle;\n",
       "    }\n",
       "\n",
       "    .dataframe tbody tr th {\n",
       "        vertical-align: top;\n",
       "    }\n",
       "\n",
       "    .dataframe thead th {\n",
       "        text-align: right;\n",
       "    }\n",
       "</style>\n",
       "<table border=\"1\" class=\"dataframe\">\n",
       "  <thead>\n",
       "    <tr style=\"text-align: right;\">\n",
       "      <th></th>\n",
       "      <th>artist</th>\n",
       "      <th>song</th>\n",
       "      <th>text</th>\n",
       "    </tr>\n",
       "  </thead>\n",
       "  <tbody>\n",
       "    <tr>\n",
       "      <th>4995</th>\n",
       "      <td>XTC</td>\n",
       "      <td>Ra Ra For Red Rocking Horse</td>\n",
       "      <td>did you think you knew the game?  \\r did you t...</td>\n",
       "    </tr>\n",
       "    <tr>\n",
       "      <th>4996</th>\n",
       "      <td>Hanson</td>\n",
       "      <td>Thinking Bout Somethin</td>\n",
       "      <td>well i gave you love, you know it  \\r so when ...</td>\n",
       "    </tr>\n",
       "    <tr>\n",
       "      <th>4997</th>\n",
       "      <td>Santana</td>\n",
       "      <td>One Chain (Don't Make No Prison)</td>\n",
       "      <td>just because in a moment of madness  \\r i took...</td>\n",
       "    </tr>\n",
       "    <tr>\n",
       "      <th>4998</th>\n",
       "      <td>Jackson Browne</td>\n",
       "      <td>Anything Can Happen</td>\n",
       "      <td>time will come when we know what happened here...</td>\n",
       "    </tr>\n",
       "    <tr>\n",
       "      <th>4999</th>\n",
       "      <td>Kelly Clarkson</td>\n",
       "      <td>Empty Handed</td>\n",
       "      <td>when did you know that nothing was right  \\r w...</td>\n",
       "    </tr>\n",
       "  </tbody>\n",
       "</table>\n",
       "</div>"
      ],
      "text/plain": [
       "              artist                              song  \\\n",
       "4995             XTC       Ra Ra For Red Rocking Horse   \n",
       "4996          Hanson            Thinking Bout Somethin   \n",
       "4997         Santana  One Chain (Don't Make No Prison)   \n",
       "4998  Jackson Browne               Anything Can Happen   \n",
       "4999  Kelly Clarkson                      Empty Handed   \n",
       "\n",
       "                                                   text  \n",
       "4995  did you think you knew the game?  \\r did you t...  \n",
       "4996  well i gave you love, you know it  \\r so when ...  \n",
       "4997  just because in a moment of madness  \\r i took...  \n",
       "4998  time will come when we know what happened here...  \n",
       "4999  when did you know that nothing was right  \\r w...  "
      ]
     },
     "execution_count": 50,
     "metadata": {},
     "output_type": "execute_result"
    }
   ],
   "source": [
    "df.tail(5)"
   ]
  },
  {
   "cell_type": "code",
   "execution_count": 51,
   "id": "fe71681d",
   "metadata": {},
   "outputs": [],
   "source": [
    "import nltk\n",
    "from nltk.stem.porter import PorterStemmer\n",
    "from nltk.tokenize import word_tokenize\n"
   ]
  },
  {
   "cell_type": "code",
   "execution_count": 52,
   "id": "086053e1",
   "metadata": {},
   "outputs": [],
   "source": [
    "stemmer = PorterStemmer()"
   ]
  },
  {
   "cell_type": "code",
   "execution_count": 53,
   "id": "7e8825c5",
   "metadata": {},
   "outputs": [
    {
     "name": "stderr",
     "output_type": "stream",
     "text": [
      "[nltk_data] Downloading package punkt to\n",
      "[nltk_data]     /Users/godsentizinyon/nltk_data...\n",
      "[nltk_data]   Package punkt is already up-to-date!\n"
     ]
    }
   ],
   "source": [
    "import nltk\n",
    "from nltk.stem import PorterStemmer\n",
    "from nltk.tokenize import word_tokenize\n",
    "\n",
    "# Download if not already present\n",
    "nltk.download('punkt')\n",
    "\n",
    "# Initialize your stemmer\n",
    "stemmer = PorterStemmer()\n",
    "\n"
   ]
  },
  {
   "cell_type": "code",
   "execution_count": 54,
   "id": "c777fb5e",
   "metadata": {},
   "outputs": [
    {
     "name": "stdout",
     "output_type": "stream",
     "text": [
      "you are so impress in mathemat and physic disaapoint\n"
     ]
    }
   ],
   "source": [
    "import re\n",
    "from nltk.stem import PorterStemmer\n",
    "\n",
    "stemmer = PorterStemmer()\n",
    "\n",
    "def token(txt):\n",
    "    # Find words (letters + apostrophes)\n",
    "    tokens = re.findall(r\"[A-Za-z']+\", txt)\n",
    "    stems  = [stemmer.stem(w) for w in tokens]\n",
    "    return \" \".join(stems)\n",
    "\n",
    "print(token(\"You are so impressive in, Mathematics and Physics, disaapointment\"))\n"
   ]
  },
  {
   "cell_type": "markdown",
   "id": "a3b7e262",
   "metadata": {},
   "source": []
  },
  {
   "cell_type": "code",
   "execution_count": 55,
   "id": "2b739b2a",
   "metadata": {},
   "outputs": [
    {
     "name": "stdout",
     "output_type": "stream",
     "text": [
      "Requirement already satisfied: scikit-learn in /opt/anaconda3/lib/python3.12/site-packages (1.4.2)\n",
      "Requirement already satisfied: numpy>=1.19.5 in /opt/anaconda3/lib/python3.12/site-packages (from scikit-learn) (1.26.4)\n",
      "Requirement already satisfied: scipy>=1.6.0 in /opt/anaconda3/lib/python3.12/site-packages (from scikit-learn) (1.13.1)\n",
      "Requirement already satisfied: joblib>=1.2.0 in /opt/anaconda3/lib/python3.12/site-packages (from scikit-learn) (1.4.2)\n",
      "Requirement already satisfied: threadpoolctl>=2.0.0 in /opt/anaconda3/lib/python3.12/site-packages (from scikit-learn) (2.2.0)\n",
      "Note: you may need to restart the kernel to use updated packages.\n"
     ]
    }
   ],
   "source": [
    "pip install scikit-learn"
   ]
  },
  {
   "cell_type": "code",
   "execution_count": 56,
   "id": "b4679cc2",
   "metadata": {},
   "outputs": [],
   "source": [
    "from sklearn.feature_extraction.text import TfidfVectorizer\n",
    "from sklearn.metrics.pairwise import cosine_similarity\n"
   ]
  },
  {
   "cell_type": "code",
   "execution_count": 57,
   "id": "6cb6ab08",
   "metadata": {},
   "outputs": [
    {
     "data": {
      "text/plain": [
       "0       beneath still water there' a strong undertow t...\n",
       "1       i wa danc when i wa twelv i wa danc when i wa ...\n",
       "2       thought about you just won't let me sleep at n...\n",
       "3       open heart empti space dusti road to distant p...\n",
       "4       hi smile like a million rose bath in rock 'n' ...\n",
       "                              ...                        \n",
       "4995    did you think you knew the game did you think ...\n",
       "4996    well i gave you love you know it so when did y...\n",
       "4997    just becaus in a moment of mad i took advantag...\n",
       "4998    time will come when we know what happen here c...\n",
       "4999    when did you know that noth wa right were you ...\n",
       "Name: text, Length: 5000, dtype: object"
      ]
     },
     "execution_count": 57,
     "metadata": {},
     "output_type": "execute_result"
    }
   ],
   "source": [
    "df['text'].apply(lambda x : token(x))"
   ]
  },
  {
   "cell_type": "code",
   "execution_count": 58,
   "id": "a3e4de9b",
   "metadata": {},
   "outputs": [],
   "source": [
    "tfid = TfidfVectorizer(analyzer ='word', stop_words = \"english\")"
   ]
  },
  {
   "cell_type": "code",
   "execution_count": 59,
   "id": "04d53d15",
   "metadata": {},
   "outputs": [
    {
     "data": {
      "text/plain": [
       "0                   Beneath Still Waters\n",
       "1                          Cosmic Dancer\n",
       "2                              Nightmare\n",
       "3                               Run Wild\n",
       "4                                    Jfk\n",
       "                      ...               \n",
       "4995         Ra Ra For Red Rocking Horse\n",
       "4996              Thinking Bout Somethin\n",
       "4997    One Chain (Don't Make No Prison)\n",
       "4998                 Anything Can Happen\n",
       "4999                        Empty Handed\n",
       "Name: song, Length: 5000, dtype: object"
      ]
     },
     "execution_count": 59,
     "metadata": {},
     "output_type": "execute_result"
    }
   ],
   "source": [
    "df['song']"
   ]
  },
  {
   "cell_type": "code",
   "execution_count": 60,
   "id": "85c2b314",
   "metadata": {},
   "outputs": [],
   "source": [
    "matrix = tfid.fit_transform(df['text'])"
   ]
  },
  {
   "cell_type": "code",
   "execution_count": 61,
   "id": "47048d2e",
   "metadata": {},
   "outputs": [],
   "source": [
    "similar = cosine_similarity(matrix)"
   ]
  },
  {
   "cell_type": "code",
   "execution_count": 62,
   "id": "595673e7",
   "metadata": {},
   "outputs": [
    {
     "data": {
      "text/plain": [
       "array([0.04975368, 1.        , 0.00727589, ..., 0.01148124, 0.0101542 ,\n",
       "       0.02127512])"
      ]
     },
     "execution_count": 62,
     "metadata": {},
     "output_type": "execute_result"
    }
   ],
   "source": [
    "similar[1]"
   ]
  },
  {
   "cell_type": "markdown",
   "id": "8f08f0b6",
   "metadata": {},
   "source": [
    "Recommender Function"
   ]
  },
  {
   "cell_type": "code",
   "execution_count": 63,
   "id": "9ec8dd4b",
   "metadata": {},
   "outputs": [
    {
     "name": "stdout",
     "output_type": "stream",
     "text": [
      "['Dream On', 'Dream Dancing', 'You Send Me', 'Dream A Lie', 'A Dream For Us']\n"
     ]
    }
   ],
   "source": [
    "from difflib import get_close_matches\n",
    "\n",
    "def recommender_exact(song_name):\n",
    "    \"\"\"Your existing exact-match function (raises if not found).\"\"\"\n",
    "    target = song_name.strip().lower()\n",
    "    mask   = df['song'].str.strip().str.lower() == target\n",
    "    if not mask.any():\n",
    "        raise ValueError(f\"Song '{song_name}' not found\")\n",
    "    idx = mask.idxmax()\n",
    "    scored = sorted(enumerate(similar[idx]), key=lambda x: x[1], reverse=True)\n",
    "    return [ df.iloc[s_id].song for s_id, _ in scored[1:6] ]\n",
    "\n",
    "def recommender_song_lookup(query):\n",
    "    \"\"\"\n",
    "    1) Try an exact match first.\n",
    "    2) If that fails, look for titles containing the query (case-insensitive).\n",
    "    3) If still nothing, fall back to fuzzy matching.\n",
    "    \"\"\"\n",
    "    try:\n",
    "        return recommender_exact(query)\n",
    "    except ValueError:\n",
    "        # 1) substring matches\n",
    "        substr_mask = df['song'].str.lower().str.contains(query.lower(), regex=False)\n",
    "        candidates  = df.loc[substr_mask, 'song'].tolist()\n",
    "        if candidates:\n",
    "            chosen = candidates[0]   # or let user pick among candidates\n",
    "            print(f\"No exact match – using '{chosen}'\")\n",
    "            return recommender_exact(chosen)\n",
    "\n",
    "        # 2) no substring match → fuzzy match\n",
    "        titles = df['song'].tolist()\n",
    "        closest = get_close_matches(query, titles, n=1, cutoff=0.5)\n",
    "        if closest:\n",
    "            chosen = closest[0]\n",
    "            print(f\"No substring match – best fuzzy match is '{chosen}'\")\n",
    "            return recommender_exact(chosen)\n",
    "\n",
    "        # 3) give up\n",
    "        print(f\"No match at all for '{query}'.\")\n",
    "        return []\n",
    "\n",
    "# Example:\n",
    "print(recommender_song_lookup(\"In your eyes\"))\n"
   ]
  },
  {
   "cell_type": "code",
   "execution_count": 64,
   "id": "35fad92d",
   "metadata": {},
   "outputs": [],
   "source": [
    "import pickle"
   ]
  },
  {
   "cell_type": "code",
   "execution_count": 66,
   "id": "a1372a2d",
   "metadata": {},
   "outputs": [],
   "source": [
    "pickle.dump(similar,open(\"similarity\", \"wb\"))"
   ]
  },
  {
   "cell_type": "code",
   "execution_count": 67,
   "id": "750de106",
   "metadata": {},
   "outputs": [],
   "source": [
    "pickle.dump(df, open(\"df\", \"wb\"))"
   ]
  }
 ],
 "metadata": {
  "kernelspec": {
   "display_name": "base",
   "language": "python",
   "name": "python3"
  },
  "language_info": {
   "codemirror_mode": {
    "name": "ipython",
    "version": 3
   },
   "file_extension": ".py",
   "mimetype": "text/x-python",
   "name": "python",
   "nbconvert_exporter": "python",
   "pygments_lexer": "ipython3",
   "version": "3.12.4"
  }
 },
 "nbformat": 4,
 "nbformat_minor": 5
}
